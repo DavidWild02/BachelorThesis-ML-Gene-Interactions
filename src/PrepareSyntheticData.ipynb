{
 "cells": [
  {
   "cell_type": "code",
   "execution_count": null,
   "id": "c3856a5f",
   "metadata": {},
   "outputs": [],
   "source": [
    "\"\"\"\n",
    "TODO:\n",
    "- create AnnDAta object\n",
    "- read count csv filter for mrna, not premra, not protein\n",
    "- read feature info and feature network\n",
    "- create grn for transitions out of it, py filtering network for cell states\n",
    "\"\"\""
   ]
  }
 ],
 "metadata": {
  "language_info": {
   "name": "python"
  }
 },
 "nbformat": 4,
 "nbformat_minor": 5
}
